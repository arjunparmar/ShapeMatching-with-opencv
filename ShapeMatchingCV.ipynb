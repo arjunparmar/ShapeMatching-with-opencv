{
 "cells": [
  {
   "cell_type": "code",
   "execution_count": 15,
   "metadata": {},
   "outputs": [
    {
     "name": "stdout",
     "output_type": "stream",
     "text": [
      "[[[774 108]]\n",
      "\n",
      " [[776 108]]\n",
      "\n",
      " [[778 110]]\n",
      "\n",
      " ...\n",
      "\n",
      " [[771 112]]\n",
      "\n",
      " [[772 111]]\n",
      "\n",
      " [[772 110]]]\n",
      "('target', 4)\n",
      "1.79769313486e+308\n",
      "no\n",
      "0.22469917051\n",
      "no\n",
      "0.0\n",
      "found\n",
      "0.350869055547\n",
      "no\n"
     ]
    }
   ],
   "source": [
    "import cv2\n",
    "import numpy as np\n",
    "temp1=cv2.imread(\"star.bmp\")#shape we want to match\n",
    "temp = cv2.cvtColor(temp1, cv2.COLOR_BGR2GRAY)\n",
    "cv2.imshow(\"temp\",temp)\n",
    "cv2.waitKey(0)\n",
    "ta=cv2.imread(\"star2.bmp\")#targeted image\n",
    "target = cv2.cvtColor(ta, cv2.COLOR_BGR2GRAY)\n",
    "cv2.imshow(\"temp1\",target)\n",
    "cv2.waitKey(0)\n",
    "cv2.destroyAllWindows()\n",
    "ret,temp1=cv2.threshold(temp,127,255,0)\n",
    "ret,temp2=cv2.threshold(target,127,255,0)\n",
    "c,h=cv2.findContours(temp1,cv2.RETR_CCOMP,cv2.CHAIN_APPROX_SIMPLE)\n",
    "sortedc=sorted(c,key=cv2.contourArea,reverse=True)\n",
    "tempc=c[2]\n",
    "print(tempc)\n",
    "c1,h=cv2.findContours(temp2,cv2.RETR_CCOMP,cv2.CHAIN_APPROX_SIMPLE)\n",
    "print(\"target\",len(c1))\n",
    "for x in c1:\n",
    "    match=cv2.matchShapes(tempc,x,1,0.0)\n",
    "    print(match)\n",
    "    if match<0.15:\n",
    "        closestc=x\n",
    "        print (\"found\")\n",
    "        \n",
    "    else:\n",
    "        print(\"no\")\n",
    "final=cv2.drawContours(target,closestc,-1,(0,100,100),5)\n",
    "cv2.imshow(\"output\",final)\n",
    "cv2.waitKey()\n",
    "cv2.destroyAllWindows()\n"
   ]
  },
  {
   "cell_type": "code",
   "execution_count": null,
   "metadata": {},
   "outputs": [],
   "source": []
  }
 ],
 "metadata": {
  "kernelspec": {
   "display_name": "Python 2",
   "language": "python",
   "name": "python2"
  },
  "language_info": {
   "codemirror_mode": {
    "name": "ipython",
    "version": 2
   },
   "file_extension": ".py",
   "mimetype": "text/x-python",
   "name": "python",
   "nbconvert_exporter": "python",
   "pygments_lexer": "ipython2",
   "version": "2.7.16"
  }
 },
 "nbformat": 4,
 "nbformat_minor": 2
}
